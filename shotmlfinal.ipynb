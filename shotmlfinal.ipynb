{
 "cells": [
  {
   "cell_type": "code",
   "execution_count": 1,
   "metadata": {
    "id": "V5Gb8ZFFA6jP"
   },
   "outputs": [],
   "source": [
    "# !pip install autoviz\n",
    "# !pip install evidently\n",
    "# !pip install --pre pycaret\n",
    "# !pip install streamlit"
   ]
  },
  {
   "cell_type": "code",
   "execution_count": 12,
   "metadata": {},
   "outputs": [
    {
     "name": "stdout",
     "output_type": "stream",
     "text": [
      "Collecting pycaret\n",
      "  Using cached pycaret-2.3.10-py3-none-any.whl (320 kB)\n",
      "Collecting scikit-learn==0.23.2\n",
      "  Using cached scikit-learn-0.23.2.tar.gz (7.2 MB)\n",
      "  Installing build dependencies: started\n",
      "  Installing build dependencies: finished with status 'error'\n"
     ]
    },
    {
     "name": "stderr",
     "output_type": "stream",
     "text": [
      "IOPub data rate exceeded.\n",
      "The notebook server will temporarily stop sending output\n",
      "to the client in order to avoid crashing it.\n",
      "To change this limit, set the config variable\n",
      "`--NotebookApp.iopub_data_rate_limit`.\n",
      "\n",
      "Current values:\n",
      "NotebookApp.iopub_data_rate_limit=1000000.0 (bytes/sec)\n",
      "NotebookApp.rate_limit_window=3.0 (secs)\n",
      "\n"
     ]
    }
   ],
   "source": [
    "!pip install pycaret"
   ]
  },
  {
   "cell_type": "code",
   "execution_count": 11,
   "metadata": {
    "colab": {
     "base_uri": "https://localhost:8080/",
     "height": 191
    },
    "id": "tLVOUP4ZRNCk",
    "outputId": "48da5ff8-bede-4df5-fc7e-a1af83255eff"
   },
   "outputs": [
    {
     "ename": "ModuleNotFoundError",
     "evalue": "No module named 'pycaret'",
     "output_type": "error",
     "traceback": [
      "\u001b[1;31m---------------------------------------------------------------------------\u001b[0m",
      "\u001b[1;31mModuleNotFoundError\u001b[0m                       Traceback (most recent call last)",
      "Cell \u001b[1;32mIn [11], line 29\u001b[0m\n\u001b[0;32m     26\u001b[0m \u001b[38;5;28;01mfrom\u001b[39;00m \u001b[38;5;21;01mevidently\u001b[39;00m\u001b[38;5;21;01m.\u001b[39;00m\u001b[38;5;21;01mdashboard\u001b[39;00m \u001b[38;5;28;01mimport\u001b[39;00m Dashboard\n\u001b[0;32m     27\u001b[0m \u001b[38;5;28;01mfrom\u001b[39;00m \u001b[38;5;21;01mevidently\u001b[39;00m\u001b[38;5;21;01m.\u001b[39;00m\u001b[38;5;21;01mdashboard\u001b[39;00m\u001b[38;5;21;01m.\u001b[39;00m\u001b[38;5;21;01mtabs\u001b[39;00m \u001b[38;5;28;01mimport\u001b[39;00m DataDriftTab, CatTargetDriftTab\n\u001b[1;32m---> 29\u001b[0m \u001b[38;5;28;01mfrom\u001b[39;00m \u001b[38;5;21;01mpycaret\u001b[39;00m\u001b[38;5;21;01m.\u001b[39;00m\u001b[38;5;21;01mdatasets\u001b[39;00m \u001b[38;5;28;01mimport\u001b[39;00m get_data\n\u001b[0;32m     30\u001b[0m \u001b[38;5;28;01mfrom\u001b[39;00m \u001b[38;5;21;01mpycaret\u001b[39;00m \u001b[38;5;28;01mimport\u001b[39;00m regression\n\u001b[0;32m     31\u001b[0m \u001b[38;5;28;01mfrom\u001b[39;00m \u001b[38;5;21;01mpycaret\u001b[39;00m \u001b[38;5;28;01mimport\u001b[39;00m arules\n",
      "\u001b[1;31mModuleNotFoundError\u001b[0m: No module named 'pycaret'"
     ]
    }
   ],
   "source": [
    "from autoviz.AutoViz_Class import AutoViz_Class\n",
    "# from pandas_profiling import ProfileReport\n",
    "from fastai.tabular.core import cont_cat_split\n",
    "from yellowbrick.classifier import confusion_matrix\n",
    "from yellowbrick.classifier import classification_report\n",
    "\n",
    "from sklearn.tree import DecisionTreeClassifier\n",
    "from sklearn.compose import ColumnTransformer\n",
    "from sklearn.model_selection import train_test_split,\\\n",
    "                                    GridSearchCV\n",
    "from sklearn.preprocessing import (StandardScaler, \n",
    "                                   OneHotEncoder)\n",
    "from sklearn.impute import KNNImputer\n",
    "from sklearn.pipeline import Pipeline\n",
    "from sklearn import metrics\n",
    "\n",
    "import pandas as pd\n",
    "import numpy as np\n",
    "\n",
    "from wordcloud import WordCloud, STOPWORDS\n",
    "import matplotlib.pyplot as plt\n",
    "\n",
    "import plotly.express as px\n",
    "\n",
    "# ML 03\n",
    "from evidently.dashboard import Dashboard\n",
    "from evidently.dashboard.tabs import DataDriftTab, CatTargetDriftTab\n",
    "\n",
    "from pycaret.datasets import get_data\n",
    "from pycaret import regression\n",
    "from pycaret import arules\n",
    "\n",
    "from sklearn.ensemble import GradientBoostingRegressor\n",
    "from sklearn.linear_model import LinearRegression\n",
    "import pickle \n",
    "\n",
    "%matplotlib inline"
   ]
  },
  {
   "cell_type": "markdown",
   "metadata": {
    "id": "T-UBAW2JPWF7"
   },
   "source": [
    "# Propósito do modelo preditivo (need statement)\n",
    "\n",
    "Este modelo tem a função de auxiliar nossos clientes na revenda de seus carros. \n",
    "\n",
    "A base de dados utilizada está disponível em: https://www.kaggle.com/datasets/adityadesai13/used-car-dataset-ford-and-mercedes?resource=download&select=ford.csv\n",
    "\n",
    "O conjunto de dados contém informações de preço, transmissão, quilometragem, tipo de combustível, imposto rodoviário, milhas por galão (mpg) e tamanho do motor.\n"
   ]
  },
  {
   "cell_type": "markdown",
   "metadata": {
    "id": "GkYgnN4NPrMp"
   },
   "source": [
    "\n",
    "# Análise exploratória de dados (gráfico e tabela)"
   ]
  },
  {
   "cell_type": "markdown",
   "metadata": {
    "id": "HxlCjpdyA6jS"
   },
   "source": [
    "Nesta seção, seão apresentados alguns gráficos e tabelas a fim de explorar o conjunto de dados."
   ]
  },
  {
   "cell_type": "code",
   "execution_count": null,
   "metadata": {
    "id": "mM1FJ2v-STkC"
   },
   "outputs": [],
   "source": [
    "data = pd.read_csv('ford.csv')\n",
    "# data = pd.read_csv('/kaggle/input/used-car-dataset-ford-and-mercedes/ford.csv')"
   ]
  },
  {
   "cell_type": "code",
   "execution_count": null,
   "metadata": {
    "id": "Zaq4lhurA6jT"
   },
   "outputs": [],
   "source": [
    "# profile = ProfileReport(data, title=\"Pandas Profiling Report\")\n",
    "# profile.to_file(\"profile.html\")"
   ]
  },
  {
   "cell_type": "code",
   "execution_count": null,
   "metadata": {
    "colab": {
     "base_uri": "https://localhost:8080/",
     "height": 300
    },
    "id": "ikyA_7cHA6jT",
    "outputId": "68dfd421-cfb2-428f-fa4e-79783a9e2c85"
   },
   "outputs": [],
   "source": [
    "data.describe() # algumas estatísticas básicas para os dados numéricos"
   ]
  },
  {
   "cell_type": "code",
   "execution_count": null,
   "metadata": {
    "colab": {
     "base_uri": "https://localhost:8080/",
     "height": 1000
    },
    "id": "dBU5-C4ZA6jU",
    "outputId": "a935533d-04db-4c57-8736-05cba751cd45"
   },
   "outputs": [],
   "source": [
    "cont_names, cat_names = cont_cat_split(data)\n",
    "for c in ['year','mileage','price']:\n",
    "    fig = px.histogram(data[cont_names], x=c, marginal=\"box\")\n",
    "    fig.update_layout(title_text=f\"Histogram for {c}\")\n",
    "    fig.show()\n",
    "    fig = px.histogram(data[cont_names], x=c,color='year')\n",
    "    fig.show()"
   ]
  },
  {
   "cell_type": "code",
   "execution_count": null,
   "metadata": {
    "colab": {
     "base_uri": "https://localhost:8080/",
     "height": 559
    },
    "id": "g57C_vOdA6jV",
    "outputId": "35bf9ebc-91f3-43ad-e5c1-a069c1c20973"
   },
   "outputs": [],
   "source": [
    "fig = px.histogram(data[cat_names], x='model', color=\"model\")\n",
    "fig.update_xaxes(type='category')\n",
    "plt.savefig('barmodel.jpg')\n",
    "fig.show()"
   ]
  },
  {
   "cell_type": "code",
   "execution_count": null,
   "metadata": {
    "colab": {
     "base_uri": "https://localhost:8080/",
     "height": 770
    },
    "id": "PFksZilpA6jV",
    "outputId": "5e9459c7-0035-4971-a550-32a330354d48"
   },
   "outputs": [],
   "source": [
    "count_model = pd.DataFrame(data['model'].value_counts())\n",
    "count_model"
   ]
  },
  {
   "cell_type": "code",
   "execution_count": null,
   "metadata": {
    "colab": {
     "base_uri": "https://localhost:8080/",
     "height": 448
    },
    "id": "FP4RwkcBA6jV",
    "outputId": "e2b6e687-0adf-404b-91a6-9ea38c5bb90d"
   },
   "outputs": [],
   "source": [
    "text = \" \".join(w for w in data['model'].values)\n",
    "word_cloud = WordCloud(\n",
    "        width=3000,\n",
    "        height=2000,\n",
    "        random_state=1,\n",
    "        background_color=\"salmon\",\n",
    "        colormap=\"Pastel1\",\n",
    "        collocations=False,\n",
    "        stopwords=STOPWORDS,\n",
    "        ).generate(text)\n",
    "plt.figure(figsize=(10,8))\n",
    "plt.imshow(word_cloud)\n",
    "plt.axis(\"off\")\n",
    "plt.savefig('wordcloud.jpg')\n",
    "plt.show()"
   ]
  },
  {
   "cell_type": "code",
   "execution_count": null,
   "metadata": {
    "colab": {
     "base_uri": "https://localhost:8080/",
     "height": 483
    },
    "id": "ckYTbIRfA6jV",
    "outputId": "6854074a-b46b-470e-d442-f86ca76ba5ad"
   },
   "outputs": [],
   "source": [
    "top5 = count_model.head(5).index\n",
    "plt.figure(figsize=(10,8))\n",
    "# top5 carros e densidade dos preços\n",
    "data.loc[data['model'].isin(top5)].groupby('model')['price'].plot(kind='density',legend=True)\n",
    "plt.show()"
   ]
  },
  {
   "cell_type": "markdown",
   "metadata": {
    "id": "I7zyIF-RPsi6"
   },
   "source": [
    "\n",
    "\n",
    "# Engenharia de features e tratamento dos dados\n",
    "\n"
   ]
  },
  {
   "cell_type": "code",
   "execution_count": null,
   "metadata": {
    "id": "iBOTF146V2_D"
   },
   "outputs": [],
   "source": [
    "# AV = AutoViz_Class()\n",
    "# dft = AV.AutoViz(filename=\"\", dfte=data, chart_format='html')"
   ]
  },
  {
   "cell_type": "code",
   "execution_count": null,
   "metadata": {
    "colab": {
     "base_uri": "https://localhost:8080/"
    },
    "id": "8-OZwPieA6jW",
    "outputId": "965204cd-89f0-40f6-fd9d-c6ddda5768c8"
   },
   "outputs": [],
   "source": [
    "tail = count_model.tail(10).index\n",
    "tail"
   ]
  },
  {
   "cell_type": "code",
   "execution_count": null,
   "metadata": {
    "colab": {
     "base_uri": "https://localhost:8080/",
     "height": 488
    },
    "id": "uj5ecHYXA6jW",
    "outputId": "0fb93faa-1ec1-4710-a880-f50ed26987d8"
   },
   "outputs": [],
   "source": [
    "# combinando categorias raras\n",
    "outros = len(tail)*['Outros']\n",
    "dic = dict(zip(tail,outros))\n",
    "data['model'] = data['model'].replace(dic,regex=True)\n",
    "pd.DataFrame(data['model'].value_counts())"
   ]
  },
  {
   "cell_type": "code",
   "execution_count": null,
   "metadata": {
    "id": "gH6lFLGYA6jX"
   },
   "outputs": [],
   "source": [
    "# transformando os dados categóricos e normalizando os numéricos\n",
    "y = data['price']\n",
    "X = data.drop(columns=['price'])\n",
    "\n",
    "# dados numericas e categoricas\n",
    "cont_names, cat_names = cont_cat_split(X)\n",
    "\n",
    "# separando em treino e teste (70/30)\n",
    "X_train, X_test, y_train, y_test = train_test_split(X, y, test_size=0.3, random_state=42)\n",
    "\n",
    "# categorical_transformer\n",
    "categorical_transformer = OneHotEncoder(handle_unknown=\"ignore\")\n",
    "dt = categorical_transformer.fit_transform(X_train[cat_names]).toarray()\n",
    "cols = categorical_transformer.get_feature_names_out()\n",
    "X_train_cat = pd.DataFrame(dt, columns=cols)\n",
    "X_train_cat['fuelType_Electric'] = 0\n",
    "\n",
    "dt = categorical_transformer.fit_transform(X_test[cat_names]).toarray()\n",
    "cols = categorical_transformer.get_feature_names_out()\n",
    "X_test_cat = pd.DataFrame(dt, columns=cols)\n",
    "X_test_cat['fuelType_Other'] = 0\n",
    "X_test_cat = X_test_cat.reindex(columns=X_train_cat.columns)\n",
    "\n",
    "# numeric_transformer\n",
    "scaler = StandardScaler().fit(X_train[cont_names])\n",
    "X_train_num = pd.DataFrame(scaler.fit_transform(X_train[cont_names]), columns=cont_names)\n",
    "\n",
    "scaler = StandardScaler().fit(X_test[cont_names])\n",
    "X_test_num = pd.DataFrame(scaler.fit_transform(X_test[cont_names]), columns=cont_names)\n",
    "\n",
    "X_train = pd.concat([X_train_num, X_train_cat], axis=1)\n",
    "X_test = pd.concat([X_test_num, X_test_cat], axis=1)"
   ]
  },
  {
   "cell_type": "code",
   "execution_count": null,
   "metadata": {
    "id": "SBm9kS70A6jX"
   },
   "outputs": [],
   "source": [
    "# # outra forma - transformando os dados categóricos e normalizando os numéricos\n",
    "# y = data['price']\n",
    "# X = data.drop(columns=['price'])\n",
    "\n",
    "# # dados numericas e categoricas\n",
    "# cont_names, cat_names = cont_cat_split(X)\n",
    "\n",
    "# # separando em treino e teste (70/30)\n",
    "# X_train, X_test, y_train, y_test = train_test_split(X, y, test_size=0.3, random_state=42)\n",
    "\n",
    "# numeric_transformer = Pipeline(\n",
    "#     steps=[(\"imputer\", KNNImputer(n_neighbors=5)), (\"scaler\", StandardScaler())])\n",
    "\n",
    "# categorical_transformer = Pipeline(\n",
    "#     steps=[(\"ohe\", OneHotEncoder(handle_unknown=\"ignore\", drop='first'))])\n",
    "    \n",
    "# preprocessor = ColumnTransformer(transformers=[ \n",
    "#         (\"num\", numeric_transformer, cont_names),\n",
    "#         (\"cat\", categorical_transformer, cat_names)])\n",
    "\n",
    "# X_train = preprocessor.fit_transform(X_train) \n",
    "# X_test = preprocessor.fit_transform(X_test) \n",
    "# len(X_train), X_train"
   ]
  },
  {
   "cell_type": "markdown",
   "metadata": {
    "id": "726r9yNlPtqp"
   },
   "source": [
    "\n",
    "\n",
    "# Data drift (sugestão, utilizar o evidently)"
   ]
  },
  {
   "cell_type": "code",
   "execution_count": null,
   "metadata": {
    "colab": {
     "base_uri": "https://localhost:8080/",
     "height": 1000
    },
    "id": "JwsCKsdmA6jX",
    "outputId": "c94308cb-a9c2-4411-8a82-2cb9ecd3e29f"
   },
   "outputs": [],
   "source": [
    "dashboard = Dashboard(tabs=[DataDriftTab(verbose_level=0)])\n",
    "dashboard.calculate(X_train, X_test, column_mapping=None)\n",
    "dashboard.show(mode='inline')"
   ]
  },
  {
   "cell_type": "code",
   "execution_count": null,
   "metadata": {
    "colab": {
     "base_uri": "https://localhost:8080/",
     "height": 612
    },
    "id": "9J4pzCRZA6jY",
    "outputId": "bc441290-5927-48a4-be54-889ccd238db7"
   },
   "outputs": [],
   "source": [
    "y_train_target = pd.DataFrame(data=y_train).rename(columns={'price':'target'})\n",
    "y_test_target = pd.DataFrame(data=y_test).rename(columns={'price':'target'})\n",
    "\n",
    "dashboard = Dashboard(tabs=[CatTargetDriftTab(verbose_level=0)])\n",
    "dashboard.calculate(y_train_target, y_test_target)\n",
    "dashboard.show(mode='inline')"
   ]
  },
  {
   "cell_type": "code",
   "execution_count": null,
   "metadata": {
    "id": "thkpEQPUA6jY"
   },
   "outputs": [],
   "source": []
  },
  {
   "cell_type": "markdown",
   "metadata": {
    "id": "sOs6FZh4PyWw"
   },
   "source": [
    "\n",
    "\n",
    "# Construção do modelo preditivo e principais métricas"
   ]
  },
  {
   "cell_type": "markdown",
   "metadata": {
    "id": "-dW-Dh-ZA6jY"
   },
   "source": [
    "De acordo com o Pandas Profiling Report, observa-se que o preço tem alta correlação com as seguintes características: \n",
    "\n",
    "$$'model',\\, 'year',\\, 'transmission',\\, 'mileage',\\, 'fuelType'$$"
   ]
  },
  {
   "cell_type": "code",
   "execution_count": null,
   "metadata": {
    "colab": {
     "base_uri": "https://localhost:8080/"
    },
    "id": "KWRh4jV7tGev",
    "outputId": "cbcf8b1c-e01c-4560-9b9e-4d004acb4054"
   },
   "outputs": [],
   "source": [
    "X['model'].unique()"
   ]
  },
  {
   "cell_type": "code",
   "execution_count": null,
   "metadata": {
    "colab": {
     "base_uri": "https://localhost:8080/",
     "height": 423
    },
    "id": "Y1nLp0K_A6jY",
    "outputId": "92b2678f-eb1a-4ae5-b87c-7a919268e64e"
   },
   "outputs": [],
   "source": [
    "# seleção de feature para criação do modelo preditivo\n",
    "features, target = ['model', 'year', 'transmission', 'mileage', 'fuelType'],['price']\n",
    "\n",
    "X = data[features]\n",
    "y = data[target]\n",
    "\n",
    "Xy = X.copy()\n",
    "Xy['price'] = y\n",
    "Xy"
   ]
  },
  {
   "cell_type": "code",
   "execution_count": null,
   "metadata": {
    "id": "upsChrhOA6jZ"
   },
   "outputs": [],
   "source": [
    "# # apois para encontar melhor modelo preditivo para o conjunto de dados\n",
    "# s = regression.setup(Xy, target = 'price', session_id=123)\n",
    "# best = regression.compare_models()"
   ]
  },
  {
   "cell_type": "code",
   "execution_count": null,
   "metadata": {
    "id": "wBHK_Ds6A6jZ"
   },
   "outputs": [],
   "source": [
    "# gbr = regression.create_model('gbr')\n",
    "# regression.plot_model(gbr, plot='residuals')\n",
    "# regression.plot_model(gbr, plot='error')\n",
    "# with open('ford.pickle', 'wb') as model:\n",
    "#     pickle.dump(gbr, model)"
   ]
  },
  {
   "cell_type": "code",
   "execution_count": null,
   "metadata": {
    "id": "DlMIjsNRA6jZ"
   },
   "outputs": [],
   "source": [
    "y = Xy['price']\n",
    "X = Xy.drop(columns=['price'])\n",
    "\n",
    "# dados numericas e categoricas\n",
    "cont_names, cat_names = cont_cat_split(X)\n",
    "\n",
    "# categorical_transformer\n",
    "categorical_transformer = OneHotEncoder(handle_unknown=\"ignore\")\n",
    "\n",
    "dt = categorical_transformer.fit_transform(X[cat_names]).toarray()\n",
    "X_train_cat = pd.DataFrame(dt, columns=categorical_transformer.get_feature_names_out())\n",
    "# X_train_cat['fuelType_Electric'] = 0\n",
    "\n",
    "dt = categorical_transformer.fit_transform(X[cat_names]).toarray()\n",
    "X_cat = pd.DataFrame(dt, columns=categorical_transformer.get_feature_names_out())\n",
    "# X_cat['fuelType_Other'] = 0\n",
    "# X_cat = X_cat.reindex(columns=X_train_cat.columns)\n",
    "\n",
    "# numeric_transformer\n",
    "scaler = StandardScaler().fit(X[cont_names])\n",
    "X_num = pd.DataFrame(scaler.fit_transform(X[cont_names]), columns=cont_names)\n",
    "\n",
    "scaler = StandardScaler().fit(X[cont_names])\n",
    "X_num = pd.DataFrame(scaler.fit_transform(X[cont_names]), columns=cont_names)\n",
    "\n",
    "X = pd.concat([X_num, X_cat], axis=1)\n",
    "\n",
    "# separando em treino e teste (70/30)\n",
    "X_train, X_test, y_train, y_test = train_test_split(X, y, test_size=0.3, random_state=42)"
   ]
  },
  {
   "cell_type": "code",
   "execution_count": null,
   "metadata": {
    "id": "2WQogNpsA6jZ"
   },
   "outputs": [],
   "source": [
    "reg = LinearRegression()\n",
    "reg.fit(X_train, y_train)\n",
    "\n",
    "with open('lin_reg_ford.pickle', 'wb') as model:\n",
    "    pickle.dump(reg, model)"
   ]
  },
  {
   "cell_type": "code",
   "execution_count": null,
   "metadata": {
    "colab": {
     "base_uri": "https://localhost:8080/",
     "height": 280
    },
    "id": "HqNL0595A6jZ",
    "outputId": "d7030241-83f1-4bb3-b983-11b561a5189d"
   },
   "outputs": [],
   "source": [
    "# !pip install matplotlib==3.1.3\n",
    "n = 30\n",
    "y_pred = reg.predict(X_test.iloc[:n])\n",
    "x = range(1,n+1)\n",
    "plt.plot(x,y_test.iloc[:n],label='test')\n",
    "plt.plot(x,y_pred,label='train')\n",
    "plt.title(f'Preço dos {n} primeiros carros de teste')\n",
    "if len(x) <= 20:\n",
    "    plt.xticks(x, x)\n",
    "plt.legend()\n",
    "plt.show()"
   ]
  },
  {
   "cell_type": "code",
   "execution_count": null,
   "metadata": {
    "colab": {
     "base_uri": "https://localhost:8080/"
    },
    "id": "o-dq_mrXs4v_",
    "outputId": "d2708ff5-2459-4fd9-9075-3e214e8d3a58"
   },
   "outputs": [],
   "source": [
    "X.shape"
   ]
  },
  {
   "cell_type": "code",
   "execution_count": null,
   "metadata": {
    "colab": {
     "base_uri": "https://localhost:8080/"
    },
    "id": "iM4yUAIJvBUO",
    "outputId": "b6971bf8-f441-4780-8ee8-5a013b2143b4"
   },
   "outputs": [],
   "source": [
    "cX = X.columns\n",
    "len(cX),cX"
   ]
  },
  {
   "cell_type": "code",
   "execution_count": null,
   "metadata": {
    "colab": {
     "base_uri": "https://localhost:8080/"
    },
    "id": "MNwz4DG6A6ja",
    "outputId": "8430d2a9-1ca1-4d46-e42f-f6d369dc3404"
   },
   "outputs": [],
   "source": [
    "import streamlit as st\n",
    "import pandas as pd\n",
    "import numpy as np\n",
    "import pickle\n",
    "\n",
    "st.set_page_config(\n",
    "    page_title='Ford Preços',\n",
    "    page_icon=\":car:\"\n",
    ")\n",
    "\n",
    "with open('lin_reg_ford.pickle', 'rb') as model:\n",
    "    reg = pickle.load(model)\n",
    "\n",
    "cols = ['year', 'mileage', 'model_ B-MAX', 'model_ C-MAX', 'model_ EcoSport',\n",
    "        'model_ Edge', 'model_ Fiesta', 'model_ Focus', 'model_ Galaxy',\n",
    "        'model_ Grand C-MAX', 'model_ KA', 'model_ Ka+', 'model_ Kuga',\n",
    "        'model_ Mondeo', 'model_ S-MAX', 'model_Outros',\n",
    "        'transmission_Automatic', 'transmission_Manual',\n",
    "        'transmission_Semi-Auto', 'fuelType_Diesel', 'fuelType_Electric',\n",
    "        'fuelType_Hybrid', 'fuelType_Other', 'fuelType_Petrol']\n",
    "\n",
    "car_user = pd.DataFrame(np.zeros((1,24)),index=[0],columns=cols)\n",
    "    \n",
    "model = st.selectbox('Qual modelo do seu carro?', (None, ' Fiesta', ' Focus', 'Outros', ' Kuga', ' EcoSport', ' C-MAX',\\\n",
    "                                                   ' Mondeo', ' Ka+', ' S-MAX', ' B-MAX', ' Edge', ' Grand C-MAX',' KA', ' Galaxy'))\n",
    "\n",
    "transmission = st.selectbox('Qual o tipo de transmissão do seu carro?', (None, 'Automatic', 'Manual', 'Semi-Auto'))\n",
    "\n",
    "fuelType = st.selectbox('Qual o tipo de combustível do seu carro?', (None, 'Petrol', 'Diesel', 'Hybrid', 'Electric', 'Other'))\n",
    "\n",
    "year = st.number_input('Qual o ano do seu carro?', min_value=2000, max_value=2022, value=2022, step=1)\n",
    "\n",
    "mileage = st.number_input('Qual a quilmetragem do seu carro?', min_value=0, max_value=None, value=0, step=None)\n",
    "\n",
    "\n",
    "char_index = ['Modelo', 'Transmissão', 'Combustível', 'Ano', 'Milhas']\n",
    "char = [model, transmission, fuelType, year, mileage]\n",
    "\n",
    "if None in char:\n",
    "    st.write('Preciso de todas as características solicitadas para tentar acertar qual é o seu animal')\n",
    "else:\n",
    "    car_user['model_'+ model] = 1\n",
    "    car_user['transmission_' + transmission] = 1\n",
    "    car_user['fuelType_'+ fuelType] = 1\n",
    "    car_user['year'] = year\n",
    "    car_user['mileage'] = mileage\n",
    "    \n",
    "    df = pd.DataFrame(car_user, index = [0])\n",
    "    # st.dataframe(df)\n",
    "    df = pd.DataFrame(char, index =char_index )\n",
    "    st.dataframe(df.transpose())\n",
    "    \n",
    "    price_pred = reg.predict(np.array(car_user).reshape(1,-1))\n",
    "    \n",
    "    st.write(f'Sugerimos o preço de venda para o seu carro sendo {price_pred}')                 \n"
   ]
  },
  {
   "cell_type": "code",
   "execution_count": null,
   "metadata": {
    "colab": {
     "base_uri": "https://localhost:8080/"
    },
    "id": "LBcMyAkPA6ja",
    "outputId": "f6ee29b1-30b7-4adc-9244-829da42e68db"
   },
   "outputs": [],
   "source": [
    "for lab in ['model','year', 'transmission', 'mileage', 'fuelType']:\n",
    "    print(data[lab].unique())"
   ]
  },
  {
   "cell_type": "markdown",
   "metadata": {
    "id": "C3c3eRzLPzjB"
   },
   "source": [
    "\n",
    "\n",
    "# Principais métricas"
   ]
  }
 ],
 "metadata": {
  "colab": {
   "provenance": []
  },
  "kernelspec": {
   "display_name": "Python 3 (ipykernel)",
   "language": "python",
   "name": "python3"
  },
  "language_info": {
   "codemirror_mode": {
    "name": "ipython",
    "version": 3
   },
   "file_extension": ".py",
   "mimetype": "text/x-python",
   "name": "python",
   "nbconvert_exporter": "python",
   "pygments_lexer": "ipython3",
   "version": "3.10.4"
  }
 },
 "nbformat": 4,
 "nbformat_minor": 1
}
